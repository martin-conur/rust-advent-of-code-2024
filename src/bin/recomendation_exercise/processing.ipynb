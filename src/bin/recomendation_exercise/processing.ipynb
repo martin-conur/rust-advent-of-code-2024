{
 "cells": [
  {
   "cell_type": "code",
   "execution_count": 2,
   "source": [
    "import pandas as pd\n",
    "import ast"
   ],
   "outputs": [],
   "metadata": {}
  },
  {
   "cell_type": "code",
   "execution_count": 3,
   "source": [
    "df = pd.read_csv(\"Association_rules_subclase.csv\")\n",
    "df[\"antecedents\"] = [ast.literal_eval(antecedent) for antecedent in df[\"antecedents\"]]\n",
    "df[\"consequents\"] = [ast.literal_eval(consequent) for consequent in df[\"consequents\"]]\n"
   ],
   "outputs": [],
   "metadata": {}
  },
  {
   "cell_type": "code",
   "execution_count": 25,
   "source": [
    "df.loc[[i for i, x in enumerate(df[\"antecedents\"]) if \"CORTICOIDES\" in x and len(x)==1]].sort_values(\"confidence\", ascending=False)"
   ],
   "outputs": [
    {
     "output_type": "execute_result",
     "data": {
      "text/html": [
       "<div>\n",
       "<style scoped>\n",
       "    .dataframe tbody tr th:only-of-type {\n",
       "        vertical-align: middle;\n",
       "    }\n",
       "\n",
       "    .dataframe tbody tr th {\n",
       "        vertical-align: top;\n",
       "    }\n",
       "\n",
       "    .dataframe thead th {\n",
       "        text-align: right;\n",
       "    }\n",
       "</style>\n",
       "<table border=\"1\" class=\"dataframe\">\n",
       "  <thead>\n",
       "    <tr style=\"text-align: right;\">\n",
       "      <th></th>\n",
       "      <th>antecedents</th>\n",
       "      <th>consequents</th>\n",
       "      <th>antecedent support</th>\n",
       "      <th>consequent support</th>\n",
       "      <th>support</th>\n",
       "      <th>confidence</th>\n",
       "      <th>lift</th>\n",
       "      <th>leverage</th>\n",
       "      <th>conviction</th>\n",
       "    </tr>\n",
       "  </thead>\n",
       "  <tbody>\n",
       "    <tr>\n",
       "      <th>451679</th>\n",
       "      <td>[CORTICOIDES]</td>\n",
       "      <td>[ANALG GENERAL]</td>\n",
       "      <td>0.013981</td>\n",
       "      <td>0.177236</td>\n",
       "      <td>0.004478</td>\n",
       "      <td>0.320316</td>\n",
       "      <td>1.807283</td>\n",
       "      <td>0.002000</td>\n",
       "      <td>1.210509</td>\n",
       "    </tr>\n",
       "    <tr>\n",
       "      <th>451676</th>\n",
       "      <td>[CORTICOIDES]</td>\n",
       "      <td>[ANTIBIOTICOS ORALES]</td>\n",
       "      <td>0.013981</td>\n",
       "      <td>0.034105</td>\n",
       "      <td>0.002076</td>\n",
       "      <td>0.148484</td>\n",
       "      <td>4.353727</td>\n",
       "      <td>0.001599</td>\n",
       "      <td>1.134323</td>\n",
       "    </tr>\n",
       "    <tr>\n",
       "      <th>451677</th>\n",
       "      <td>[CORTICOIDES]</td>\n",
       "      <td>[ANTIALERGICOS]</td>\n",
       "      <td>0.013981</td>\n",
       "      <td>0.053746</td>\n",
       "      <td>0.002026</td>\n",
       "      <td>0.144917</td>\n",
       "      <td>2.696298</td>\n",
       "      <td>0.001275</td>\n",
       "      <td>1.106621</td>\n",
       "    </tr>\n",
       "    <tr>\n",
       "      <th>451678</th>\n",
       "      <td>[CORTICOIDES]</td>\n",
       "      <td>[ANTIULCEROSOS]</td>\n",
       "      <td>0.013981</td>\n",
       "      <td>0.040624</td>\n",
       "      <td>0.001875</td>\n",
       "      <td>0.134104</td>\n",
       "      <td>3.301078</td>\n",
       "      <td>0.001307</td>\n",
       "      <td>1.107957</td>\n",
       "    </tr>\n",
       "  </tbody>\n",
       "</table>\n",
       "</div>"
      ],
      "text/plain": [
       "          antecedents            consequents  antecedent support  \\\n",
       "451679  [CORTICOIDES]        [ANALG GENERAL]            0.013981   \n",
       "451676  [CORTICOIDES]  [ANTIBIOTICOS ORALES]            0.013981   \n",
       "451677  [CORTICOIDES]        [ANTIALERGICOS]            0.013981   \n",
       "451678  [CORTICOIDES]        [ANTIULCEROSOS]            0.013981   \n",
       "\n",
       "        consequent support   support  confidence      lift  leverage  \\\n",
       "451679            0.177236  0.004478    0.320316  1.807283  0.002000   \n",
       "451676            0.034105  0.002076    0.148484  4.353727  0.001599   \n",
       "451677            0.053746  0.002026    0.144917  2.696298  0.001275   \n",
       "451678            0.040624  0.001875    0.134104  3.301078  0.001307   \n",
       "\n",
       "        conviction  \n",
       "451679    1.210509  \n",
       "451676    1.134323  \n",
       "451677    1.106621  \n",
       "451678    1.107957  "
      ]
     },
     "metadata": {},
     "execution_count": 25
    }
   ],
   "metadata": {}
  },
  {
   "cell_type": "code",
   "execution_count": null,
   "source": [],
   "outputs": [],
   "metadata": {}
  }
 ],
 "metadata": {
  "orig_nbformat": 4,
  "language_info": {
   "name": "python",
   "version": "3.8.8",
   "mimetype": "text/x-python",
   "codemirror_mode": {
    "name": "ipython",
    "version": 3
   },
   "pygments_lexer": "ipython3",
   "nbconvert_exporter": "python",
   "file_extension": ".py"
  },
  "kernelspec": {
   "name": "python3",
   "display_name": "Python 3.8.8 64-bit ('num_viz': conda)"
  },
  "interpreter": {
   "hash": "e8ea421642ce6fccadf5332732f370f98ada310ee752df701f647df15f365dad"
  }
 },
 "nbformat": 4,
 "nbformat_minor": 2
}